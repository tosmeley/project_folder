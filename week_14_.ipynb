{
  "cells": [
    {
      "cell_type": "markdown",
      "metadata": {
        "id": "view-in-github",
        "colab_type": "text"
      },
      "source": [
        "<a href=\"https://colab.research.google.com/github/tosmeley/project_folder/blob/main/week_14_.ipynb\" target=\"_parent\"><img src=\"https://colab.research.google.com/assets/colab-badge.svg\" alt=\"Open In Colab\"/></a>"
      ]
    },
    {
      "cell_type": "code",
      "execution_count": 1,
      "metadata": {
        "id": "Y8ziJNpwvlwN"
      },
      "outputs": [],
      "source": [
        "# The Transformer architecture\n",
        "# Understanding self-attention\n",
        "# Generalized self-attention: the query-key-value model\n",
        "# Multi-head attention\n",
        "# The Transformer encoder\n",
        "# Getting the data"
      ]
    },
    {
      "cell_type": "code",
      "execution_count": 2,
      "metadata": {
        "colab": {
          "base_uri": "https://localhost:8080/"
        },
        "id": "KnCX8HgnxxFz",
        "outputId": "a87c7df0-bca3-4c07-ebfe-217d8e1e39e1"
      },
      "outputs": [
        {
          "output_type": "stream",
          "name": "stdout",
          "text": [
            "  % Total    % Received % Xferd  Average Speed   Time    Time     Time  Current\n",
            "                                 Dload  Upload   Total   Spent    Left  Speed\n",
            "100 80.2M  100 80.2M    0     0  9000k      0  0:00:09  0:00:09 --:--:-- 16.3M\n"
          ]
        }
      ],
      "source": [
        "!curl -O https://ai.stanford.edu/~amaas/data/sentiment/aclImdb_v1.tar.gz\n",
        "!tar -xf aclImdb_v1.tar.gz\n",
        "!rm -r aclImdb/train/unsup"
      ]
    },
    {
      "cell_type": "code",
      "execution_count": 3,
      "metadata": {
        "colab": {
          "base_uri": "https://localhost:8080/"
        },
        "id": "MHlnSPyXx_Oa",
        "outputId": "19c614ed-25e8-4b8b-dfeb-f36b9b17ec2c"
      },
      "outputs": [
        {
          "output_type": "stream",
          "name": "stdout",
          "text": [
            "Found 20000 files belonging to 2 classes.\n",
            "Found 5000 files belonging to 2 classes.\n",
            "Found 25000 files belonging to 2 classes.\n"
          ]
        }
      ],
      "source": [
        "import os, pathlib, shutil, random\n",
        "from tensorflow import keras\n",
        "\n",
        "batch_size = 32\n",
        "base_dir = pathlib.Path(\"aclImdb\")\n",
        "val_dir = base_dir / \"val\"\n",
        "train_dir = base_dir / \"train\"\n",
        "\n",
        "for category in (\"neg\", \"pos\"):\n",
        "  os.makedirs(val_dir / category)\n",
        "  files = os.listdir(train_dir / category)\n",
        "  random.Random(1337).shuffle(files)\n",
        "  num_val_samples = int(0.2 * len(files))\n",
        "  val_files = files[-num_val_samples:]\n",
        "  \n",
        "  for fname in val_files:\n",
        "    shutil.move(train_dir / category / fname,\n",
        "                val_dir / category / fname)\n",
        "    \n",
        "train_ds = keras.utils.text_dataset_from_directory(\n",
        "    \"aclImdb/train\", batch_size = batch_size\n",
        ")\n",
        "val_ds = keras.utils.text_dataset_from_directory(\n",
        "    \"aclImdb/val\", batch_size = batch_size\n",
        ")\n",
        "test_ds = keras.utils.text_dataset_from_directory(\n",
        "    \"aclImdb/test\", batch_size = batch_size\n",
        ")\n",
        "\n",
        "text_only_train_ds = train_ds.map(lambda x, y: x)"
      ]
    },
    {
      "cell_type": "code",
      "execution_count": 4,
      "metadata": {
        "id": "s-ZGi-kHymdc"
      },
      "outputs": [],
      "source": [
        "# Vectorizing the data\n",
        "\n"
      ]
    },
    {
      "cell_type": "code",
      "execution_count": 5,
      "metadata": {
        "id": "hn2EnfSYycO6"
      },
      "outputs": [],
      "source": [
        "from tensorflow.keras import layers\n",
        "\n",
        "max_length = 600\n",
        "max_tokens = 20000\n",
        "text_vectorization = layers.TextVectorization(\n",
        "    max_tokens = max_tokens,\n",
        "    output_mode = \"int\",\n",
        "    output_sequence_length = max_length,\n",
        ")\n",
        "\n",
        "text_vectorization.adapt(text_only_train_ds)\n",
        "\n",
        "int_train_ds = train_ds.map(\n",
        "    lambda x, y: (text_vectorization(x), y),\n",
        "    num_parallel_calls = 4\n",
        ")\n",
        "\n",
        "int_val_ds = train_ds.map(\n",
        "    lambda x, y: (text_vectorization(x), y),\n",
        "    num_parallel_calls = 4\n",
        ")\n",
        "\n",
        "int_test_ds = train_ds.map(\n",
        "    lambda x, y: (text_vectorization(x), y),\n",
        "    num_parallel_calls = 4\n",
        ")"
      ]
    },
    {
      "cell_type": "code",
      "execution_count": 6,
      "metadata": {
        "id": "QITrX36Lye9g"
      },
      "outputs": [],
      "source": [
        "# Transformer encoder implemented as a subclassed Layer\n",
        "\n",
        "import tensorflow as tf\n",
        "from tensorflow import keras\n",
        "from tensorflow.keras import layers\n",
        "\n",
        "class TransformerEncoder(layers.Layer):\n",
        "  def __init__(self, embed_dim, dense_dim, num_heads, **kwargs):\n",
        "    super().__init__(**kwargs)\n",
        "    self.embed_dim = embed_dim\n",
        "    self.dense_dim = dense_dim\n",
        "    self.num_heads = num_heads\n",
        "    self.attention = layers.MultiHeadAttention(\n",
        "        num_heads = num_heads, key_dim = embed_dim\n",
        "    )\n",
        "    self.dense_proj = keras.Sequential(\n",
        "        [layers.Dense(dense_dim, activation=\"relu\"),\n",
        "         layers.Dense(embed_dim),]\n",
        "    )\n",
        "    self.layernorm_1 = layers.LayerNormalization()\n",
        "    self.layernorm_2 = layers.LayerNormalization()\n",
        "\n",
        "  def call(self, inputs, mask=None):\n",
        "    if mask is not None:\n",
        "      mask = mask[:, tf.newaxis, :]\n",
        "\n",
        "    attention_output = self.attention(inputs, inputs, attention_mask = mask)\n",
        "    proj_input = self.layernorm_1(inputs + attention_output)\n",
        "    proj_output = self.dense_proj(proj_input)\n",
        "    return self.layernorm_2(proj_input + proj_output)\n",
        "\n",
        "  def get_config(self):\n",
        "    config = super().get_config()\n",
        "    config.update({\n",
        "        \"embed_dim\": self.embed_dim,\n",
        "        \"num_heads\": self.num_heads,\n",
        "        \"dense_dim\": self.dense_dim,\n",
        "    })\n",
        "    return config"
      ]
    },
    {
      "cell_type": "code",
      "execution_count": 7,
      "metadata": {
        "colab": {
          "base_uri": "https://localhost:8080/"
        },
        "id": "LNLdVvZIyuw9",
        "outputId": "8c491c94-70e8-492a-f887-5ff7ca25b087"
      },
      "outputs": [
        {
          "output_type": "stream",
          "name": "stdout",
          "text": [
            "Model: \"model\"\n",
            "_________________________________________________________________\n",
            " Layer (type)                Output Shape              Param #   \n",
            "=================================================================\n",
            " input_1 (InputLayer)        [(None, None)]            0         \n",
            "                                                                 \n",
            " embedding (Embedding)       (None, None, 256)         5120000   \n",
            "                                                                 \n",
            " transformer_encoder (Transf  (None, None, 256)        543776    \n",
            " ormerEncoder)                                                   \n",
            "                                                                 \n",
            " global_max_pooling1d (Globa  (None, 256)              0         \n",
            " lMaxPooling1D)                                                  \n",
            "                                                                 \n",
            " dropout (Dropout)           (None, 256)               0         \n",
            "                                                                 \n",
            " dense_2 (Dense)             (None, 1)                 257       \n",
            "                                                                 \n",
            "=================================================================\n",
            "Total params: 5,664,033\n",
            "Trainable params: 5,664,033\n",
            "Non-trainable params: 0\n",
            "_________________________________________________________________\n"
          ]
        }
      ],
      "source": [
        "# Using Transformer encoder for text classification\n",
        "\n",
        "vocab_size = 20000\n",
        "embed_dim = 256\n",
        "num_heads = 2\n",
        "dense_dim = 32\n",
        "\n",
        "inputs = keras.Input(shape = (None,), dtype = \"int64\")\n",
        "x = layers.Embedding(vocab_size, embed_dim)(inputs)\n",
        "x = TransformerEncoder(embed_dim, dense_dim, num_heads)(x)\n",
        "x = layers.GlobalMaxPooling1D()(x)\n",
        "x = layers.Dropout(0.5)(x)\n",
        "outputs = layers.Dense(1, activation = \"sigmoid\")(x)\n",
        "model = keras.Model(inputs, outputs)\n",
        "model.compile(optimizer = \"rmsprop\",\n",
        "              loss = \"binary_crossentropy\",\n",
        "              metrics=[\"accuracy\"])\n",
        "model.summary()"
      ]
    },
    {
      "cell_type": "code",
      "execution_count": 8,
      "metadata": {
        "colab": {
          "base_uri": "https://localhost:8080/"
        },
        "id": "FLe3hjbIyy-P",
        "outputId": "0e251e45-239b-4af5-c390-2fe989a6e17d"
      },
      "outputs": [
        {
          "output_type": "stream",
          "name": "stdout",
          "text": [
            "Epoch 1/20\n",
            "625/625 [==============================] - 55s 79ms/step - loss: 0.4754 - accuracy: 0.7768 - val_loss: 0.2845 - val_accuracy: 0.8839\n",
            "Epoch 2/20\n",
            "625/625 [==============================] - 50s 80ms/step - loss: 0.3079 - accuracy: 0.8704 - val_loss: 0.2065 - val_accuracy: 0.9209\n",
            "Epoch 3/20\n",
            "625/625 [==============================] - 50s 80ms/step - loss: 0.2430 - accuracy: 0.9021 - val_loss: 0.1653 - val_accuracy: 0.9387\n",
            "Epoch 4/20\n",
            "625/625 [==============================] - 51s 81ms/step - loss: 0.1939 - accuracy: 0.9251 - val_loss: 0.1687 - val_accuracy: 0.9310\n",
            "Epoch 5/20\n",
            "625/625 [==============================] - 50s 81ms/step - loss: 0.1539 - accuracy: 0.9434 - val_loss: 0.0960 - val_accuracy: 0.9649\n",
            "Epoch 6/20\n",
            "625/625 [==============================] - 59s 94ms/step - loss: 0.1246 - accuracy: 0.9527 - val_loss: 0.0821 - val_accuracy: 0.9736\n",
            "Epoch 7/20\n",
            "625/625 [==============================] - 52s 83ms/step - loss: 0.1070 - accuracy: 0.9605 - val_loss: 0.0718 - val_accuracy: 0.9772\n",
            "Epoch 8/20\n",
            "625/625 [==============================] - 52s 84ms/step - loss: 0.0898 - accuracy: 0.9671 - val_loss: 0.0498 - val_accuracy: 0.9821\n",
            "Epoch 9/20\n",
            "625/625 [==============================] - 52s 83ms/step - loss: 0.0759 - accuracy: 0.9726 - val_loss: 0.1386 - val_accuracy: 0.9517\n",
            "Epoch 10/20\n",
            "625/625 [==============================] - 52s 83ms/step - loss: 0.0590 - accuracy: 0.9789 - val_loss: 0.0920 - val_accuracy: 0.9676\n",
            "Epoch 11/20\n",
            "625/625 [==============================] - 52s 83ms/step - loss: 0.0493 - accuracy: 0.9837 - val_loss: 0.0542 - val_accuracy: 0.9786\n",
            "Epoch 12/20\n",
            "625/625 [==============================] - 52s 84ms/step - loss: 0.0393 - accuracy: 0.9876 - val_loss: 0.1290 - val_accuracy: 0.9541\n",
            "Epoch 13/20\n",
            "625/625 [==============================] - 52s 83ms/step - loss: 0.0304 - accuracy: 0.9894 - val_loss: 0.0993 - val_accuracy: 0.9722\n",
            "Epoch 14/20\n",
            "625/625 [==============================] - 59s 94ms/step - loss: 0.0245 - accuracy: 0.9926 - val_loss: 0.1303 - val_accuracy: 0.9676\n",
            "Epoch 15/20\n",
            "625/625 [==============================] - 52s 83ms/step - loss: 0.0208 - accuracy: 0.9938 - val_loss: 0.1119 - val_accuracy: 0.9705\n",
            "Epoch 16/20\n",
            "625/625 [==============================] - 52s 83ms/step - loss: 0.0170 - accuracy: 0.9952 - val_loss: 0.0987 - val_accuracy: 0.9752\n",
            "Epoch 17/20\n",
            "625/625 [==============================] - 52s 83ms/step - loss: 0.0156 - accuracy: 0.9961 - val_loss: 0.1729 - val_accuracy: 0.9598\n",
            "Epoch 18/20\n",
            "625/625 [==============================] - 52s 83ms/step - loss: 0.0107 - accuracy: 0.9967 - val_loss: 0.3048 - val_accuracy: 0.9496\n",
            "Epoch 19/20\n",
            "625/625 [==============================] - 52s 83ms/step - loss: 0.0096 - accuracy: 0.9973 - val_loss: 0.1047 - val_accuracy: 0.9772\n",
            "Epoch 20/20\n",
            "625/625 [==============================] - 52s 83ms/step - loss: 0.0111 - accuracy: 0.9966 - val_loss: 0.1663 - val_accuracy: 0.9659\n",
            "625/625 [==============================] - 15s 23ms/step - loss: 0.0498 - accuracy: 0.9821\n",
            "Test acc: 0.982\n"
          ]
        }
      ],
      "source": [
        "# Training and evaluating the Transformer encoder based model\n",
        "\n",
        "callbacks = [\n",
        "    keras.callbacks.ModelCheckpoint(\"transformer_encoder.keras\",\n",
        "                                    save_best_only = True)\n",
        "]\n",
        "\n",
        "model.fit(int_train_ds, validation_data=int_val_ds, epochs=20, callbacks=callbacks)\n",
        "model = keras.models.load_model(\n",
        "    \"transformer_encoder.keras\",\n",
        "    custom_objects={\"TransformerEncoder\": TransformerEncoder}\n",
        "    )\n",
        "\n",
        "print(f\"Test acc: {model.evaluate(int_test_ds)[1]:.3f}\")"
      ]
    },
    {
      "cell_type": "code",
      "execution_count": 9,
      "metadata": {
        "id": "P-n4BfwBy4hT"
      },
      "outputs": [],
      "source": [
        "# Using positional encoding to re-inject order information\n",
        "# Implementing positional embedding as a subclassed layer"
      ]
    },
    {
      "cell_type": "code",
      "execution_count": 10,
      "metadata": {
        "id": "2OQ2djPVy56B"
      },
      "outputs": [],
      "source": [
        "class PositionalEmbedding(layers.Layer):\n",
        "  def __init__(self, sequence_length, input_dim, output_dim, **kwargs):\n",
        "    super().__init__(**kwargs)\n",
        "    self.token_embeddings = layers.Embedding(\n",
        "        input_dim=input_dim, output_dim=output_dim)\n",
        "    self.position_embeddings = layers.Embedding(\n",
        "        input_dim=sequence_length, output_dim=output_dim)\n",
        "    self.sequence_length = sequence_length\n",
        "    self.input_dim = input_dim\n",
        "    self.output_dim = output_dim\n",
        "\n",
        "  def call(self, inputs):\n",
        "    length = tf.shape(inputs)[-1]\n",
        "    positions = tf.range(start=0, limit=length, delta=1)\n",
        "    embedded_tokens = self.token_embeddings(inputs)\n",
        "    embedded_positions = self.position_embeddings(positions)\n",
        "    return embedded_tokens + embedded_positions\n",
        "\n",
        "  def compute_mask(self, inputs, mask=None):\n",
        "    return tf.math.not_equal(inputs, 0)\n",
        "\n",
        "  def get_config(self):\n",
        "    config = super().get_config()\n",
        "    config.update({\n",
        "        \"output_dim\": self.output_dim,\n",
        "        \"sequence_length\": self.sequence_length,\n",
        "        \"input_dim\": self.input_dim,\n",
        "    })\n",
        "    return config"
      ]
    },
    {
      "cell_type": "code",
      "execution_count": 11,
      "metadata": {
        "id": "s4ii8Q2Uy8To"
      },
      "outputs": [],
      "source": [
        "# Putting it all together: A text-classification Transformer\n",
        "# Combining the Transformer encoder with positional embedding"
      ]
    },
    {
      "cell_type": "code",
      "execution_count": 12,
      "metadata": {
        "id": "kpi7WCRjy-a4",
        "colab": {
          "base_uri": "https://localhost:8080/"
        },
        "outputId": "0e322125-5950-49c9-b013-a790f8924da7"
      },
      "outputs": [
        {
          "output_type": "stream",
          "name": "stdout",
          "text": [
            "Model: \"model_1\"\n",
            "_________________________________________________________________\n",
            " Layer (type)                Output Shape              Param #   \n",
            "=================================================================\n",
            " input_2 (InputLayer)        [(None, None)]            0         \n",
            "                                                                 \n",
            " positional_embedding (Posit  (None, None, 256)        5273600   \n",
            " ionalEmbedding)                                                 \n",
            "                                                                 \n",
            " transformer_encoder_1 (Tran  (None, None, 256)        543776    \n",
            " sformerEncoder)                                                 \n",
            "                                                                 \n",
            " global_max_pooling1d_1 (Glo  (None, 256)              0         \n",
            " balMaxPooling1D)                                                \n",
            "                                                                 \n",
            " dropout_1 (Dropout)         (None, 256)               0         \n",
            "                                                                 \n",
            " dense_7 (Dense)             (None, 1)                 257       \n",
            "                                                                 \n",
            "=================================================================\n",
            "Total params: 5,817,633\n",
            "Trainable params: 5,817,633\n",
            "Non-trainable params: 0\n",
            "_________________________________________________________________\n",
            "Epoch 1/20\n",
            "625/625 [==============================] - 56s 87ms/step - loss: 0.4593 - accuracy: 0.7861 - val_loss: 0.2170 - val_accuracy: 0.9238\n",
            "Epoch 2/20\n",
            "625/625 [==============================] - 54s 86ms/step - loss: 0.2268 - accuracy: 0.9129 - val_loss: 0.1492 - val_accuracy: 0.9478\n",
            "Epoch 3/20\n",
            "625/625 [==============================] - 54s 86ms/step - loss: 0.1709 - accuracy: 0.9363 - val_loss: 0.1197 - val_accuracy: 0.9555\n",
            "Epoch 4/20\n",
            "625/625 [==============================] - 54s 86ms/step - loss: 0.1405 - accuracy: 0.9506 - val_loss: 0.1366 - val_accuracy: 0.9528\n",
            "Epoch 5/20\n",
            "625/625 [==============================] - 54s 86ms/step - loss: 0.1210 - accuracy: 0.9558 - val_loss: 0.0952 - val_accuracy: 0.9687\n",
            "Epoch 6/20\n",
            "625/625 [==============================] - 54s 86ms/step - loss: 0.1072 - accuracy: 0.9627 - val_loss: 0.0666 - val_accuracy: 0.9765\n",
            "Epoch 7/20\n",
            "625/625 [==============================] - 54s 86ms/step - loss: 0.0969 - accuracy: 0.9660 - val_loss: 0.0603 - val_accuracy: 0.9815\n",
            "Epoch 8/20\n",
            "625/625 [==============================] - 54s 86ms/step - loss: 0.0861 - accuracy: 0.9689 - val_loss: 0.0542 - val_accuracy: 0.9804\n",
            "Epoch 9/20\n",
            "625/625 [==============================] - 54s 86ms/step - loss: 0.0768 - accuracy: 0.9726 - val_loss: 0.0424 - val_accuracy: 0.9858\n",
            "Epoch 10/20\n",
            "625/625 [==============================] - 54s 86ms/step - loss: 0.0682 - accuracy: 0.9762 - val_loss: 0.0426 - val_accuracy: 0.9871\n",
            "Epoch 11/20\n",
            "625/625 [==============================] - 55s 88ms/step - loss: 0.0658 - accuracy: 0.9771 - val_loss: 0.0345 - val_accuracy: 0.9884\n",
            "Epoch 12/20\n",
            "625/625 [==============================] - 53s 85ms/step - loss: 0.0575 - accuracy: 0.9803 - val_loss: 0.0308 - val_accuracy: 0.9894\n",
            "Epoch 13/20\n",
            "625/625 [==============================] - 54s 86ms/step - loss: 0.0521 - accuracy: 0.9810 - val_loss: 0.0293 - val_accuracy: 0.9908\n",
            "Epoch 14/20\n",
            "625/625 [==============================] - 54s 86ms/step - loss: 0.0483 - accuracy: 0.9835 - val_loss: 0.0293 - val_accuracy: 0.9898\n",
            "Epoch 15/20\n",
            "625/625 [==============================] - 54s 86ms/step - loss: 0.0433 - accuracy: 0.9855 - val_loss: 0.0221 - val_accuracy: 0.9931\n",
            "Epoch 16/20\n",
            "625/625 [==============================] - 54s 86ms/step - loss: 0.0397 - accuracy: 0.9852 - val_loss: 0.0233 - val_accuracy: 0.9926\n",
            "Epoch 17/20\n",
            "625/625 [==============================] - 54s 86ms/step - loss: 0.0376 - accuracy: 0.9873 - val_loss: 0.0175 - val_accuracy: 0.9948\n",
            "Epoch 18/20\n",
            "625/625 [==============================] - 54s 86ms/step - loss: 0.0339 - accuracy: 0.9888 - val_loss: 0.0145 - val_accuracy: 0.9948\n",
            "Epoch 19/20\n",
            "625/625 [==============================] - 53s 85ms/step - loss: 0.0272 - accuracy: 0.9900 - val_loss: 0.0346 - val_accuracy: 0.9862\n",
            "Epoch 20/20\n",
            "625/625 [==============================] - 54s 86ms/step - loss: 0.0226 - accuracy: 0.9920 - val_loss: 0.0266 - val_accuracy: 0.9898\n",
            "625/625 [==============================] - 16s 25ms/step - loss: 0.0145 - accuracy: 0.9948\n",
            "Test acc: 0.995\n"
          ]
        }
      ],
      "source": [
        "vocab_size = 20000\n",
        "sequence_length = 600\n",
        "embed_dim = 256\n",
        "num_heads = 2\n",
        "dense_dim = 32\n",
        "\n",
        "inputs = keras.Input(shape=(None,), dtype=\"int64\")\n",
        "x = PositionalEmbedding(sequence_length, vocab_size, embed_dim)(inputs)\n",
        "x = TransformerEncoder(embed_dim, dense_dim, num_heads)(x)\n",
        "x = layers.GlobalMaxPooling1D()(x)\n",
        "x = layers.Dropout(0.5)(x)\n",
        "outputs = layers.Dense(1, activation=\"sigmoid\")(x)\n",
        "model = keras.Model(inputs, outputs)\n",
        "model.compile(optimizer=\"rmsprop\",\n",
        "              loss=\"binary_crossentropy\",\n",
        "              metrics=[\"accuracy\"])\n",
        "model.summary()\n",
        "\n",
        "callbacks = [\n",
        "    keras.callbacks.ModelCheckpoint(\"full_transformer_encoder.keras\",\n",
        "                                    save_best_only=True)\n",
        "]\n",
        "\n",
        "model.fit(int_train_ds, validation_data=int_val_ds, epochs=20, callbacks=callbacks)\n",
        "model = keras.models.load_model(\n",
        "    \"full_transformer_encoder.keras\",\n",
        "    custom_objects = {\"TransformerEncoder\": TransformerEncoder,\n",
        "                      \"PositionalEmbedding\": PositionalEmbedding})\n",
        "print(f\"Test acc: {model.evaluate(int_test_ds)[1]:.3f}\")"
      ]
    }
  ],
  "metadata": {
    "accelerator": "GPU",
    "colab": {
      "provenance": [],
      "authorship_tag": "ABX9TyMTsbk/S34P39J/olEwy33C",
      "include_colab_link": true
    },
    "gpuClass": "standard",
    "kernelspec": {
      "display_name": "Python 3",
      "name": "python3"
    },
    "language_info": {
      "name": "python"
    }
  },
  "nbformat": 4,
  "nbformat_minor": 0
}