{
  "cells": [
    {
      "cell_type": "markdown",
      "metadata": {
        "id": "view-in-github",
        "colab_type": "text"
      },
      "source": [
        "<a href=\"https://colab.research.google.com/github/tosmeley/project_folder/blob/main/week_12_.ipynb\" target=\"_parent\"><img src=\"https://colab.research.google.com/assets/colab-badge.svg\" alt=\"Open In Colab\"/></a>"
      ]
    },
    {
      "cell_type": "code",
      "execution_count": null,
      "metadata": {
        "colab": {
          "base_uri": "https://localhost:8080/"
        },
        "id": "9Yd8xLOj6ZGW",
        "outputId": "ae258768-4f63-4a20-d197-eeb51cae7edc"
      },
      "outputs": [
        {
          "name": "stdout",
          "output_type": "stream",
          "text": [
            "--2022-11-30 03:44:26--  https://s3.amazonaws.com/keras-datasets/jena_climate_2009_2016.csv.zip\n",
            "Resolving s3.amazonaws.com (s3.amazonaws.com)... 52.217.232.248, 52.217.99.230, 52.217.137.216, ...\n",
            "Connecting to s3.amazonaws.com (s3.amazonaws.com)|52.217.232.248|:443... connected.\n",
            "HTTP request sent, awaiting response... 200 OK\n",
            "Length: 13565642 (13M) [application/zip]\n",
            "Saving to: ‘jena_climate_2009_2016.csv.zip’\n",
            "\n",
            "jena_climate_2009_2 100%[===================>]  12.94M  18.9MB/s    in 0.7s    \n",
            "\n",
            "2022-11-30 03:44:27 (18.9 MB/s) - ‘jena_climate_2009_2016.csv.zip’ saved [13565642/13565642]\n",
            "\n",
            "Archive:  jena_climate_2009_2016.csv.zip\n",
            "  inflating: jena_climate_2009_2016.csv  \n",
            "  inflating: __MACOSX/._jena_climate_2009_2016.csv  \n"
          ]
        }
      ],
      "source": [
        "!wget https://s3.amazonaws.com/keras-datasets/jena_climate_2009_2016.csv.zip\n",
        "!unzip jena_climate_2009_2016.csv.zip"
      ]
    },
    {
      "cell_type": "code",
      "execution_count": null,
      "metadata": {
        "id": "nhjk80ug6v7k"
      },
      "outputs": [],
      "source": [
        "#Inspecting the data  of the Jena weather dataset"
      ]
    },
    {
      "cell_type": "code",
      "execution_count": null,
      "metadata": {
        "colab": {
          "base_uri": "https://localhost:8080/"
        },
        "id": "jqVW8IMX6v_f",
        "outputId": "6c36cb03-b579-4ac0-cf5f-ed38f8eb8549"
      },
      "outputs": [
        {
          "name": "stdout",
          "output_type": "stream",
          "text": [
            "['\"Date Time\"', '\"p (mbar)\"', '\"T (degC)\"', '\"Tpot (K)\"', '\"Tdew (degC)\"', '\"rh (%)\"', '\"VPmax (mbar)\"', '\"VPact (mbar)\"', '\"VPdef (mbar)\"', '\"sh (g/kg)\"', '\"H2OC (mmol/mol)\"', '\"rho (g/m**3)\"', '\"wv (m/s)\"', '\"max. wv (m/s)\"', '\"wd (deg)\"']\n",
            "420451\n"
          ]
        }
      ],
      "source": [
        "import os\n",
        "fname=os.path.join(\"jena_climate_2009_2016.csv\")\n",
        "\n",
        "with open(fname) as f:\n",
        "    data=f.read()\n",
        "\n",
        "lines=data.split(\"\\n\")\n",
        "header=lines[0].split(\",\")\n",
        "lines=lines[1:]\n",
        "print(header)\n",
        "print(len(lines))"
      ]
    },
    {
      "cell_type": "code",
      "execution_count": null,
      "metadata": {
        "id": "vvm7EqkZ7tue"
      },
      "outputs": [],
      "source": [
        "# Parsing the data\n",
        "\n",
        "import numpy as np\n",
        "temperature = np.zeros ((len(lines),))\n",
        "raw_data = np.zeros((len(lines), len(header) - 1))\n",
        "for i, line in enumerate(lines):\n",
        "    values = [float(x) for x in line.split(\",\") [1:]]\n",
        "    temperature[i]= values[1]\n",
        "    raw_data[i,:] = values[:]\n"
      ]
    },
    {
      "cell_type": "code",
      "execution_count": null,
      "metadata": {
        "colab": {
          "base_uri": "https://localhost:8080/",
          "height": 285
        },
        "id": "DM13lg6nB1zZ",
        "outputId": "435cbf51-e756-4b8b-ae70-98f584a78b5b"
      },
      "outputs": [
        {
          "data": {
            "text/plain": [
              "[<matplotlib.lines.Line2D at 0x7f6c7a283090>]"
            ]
          },
          "execution_count": 6,
          "metadata": {},
          "output_type": "execute_result"
        },
        {
          "data": {
            "image/png": "[encoded data removed]",
            "text/plain": [
              "<Figure size 432x288 with 1 Axes>"
            ]
          },
          "metadata": {},
          "output_type": "display_data"
        }
      ],
      "source": [
        "# Plotting the temperature timeseries\n",
        "from matplotlib import pyplot as plt\n",
        "plt.plot(range(len(temperature)) , temperature)"
      ]
    },
    {
      "cell_type": "code",
      "execution_count": null,
      "metadata": {
        "colab": {
          "base_uri": "https://localhost:8080/",
          "height": 282
        },
        "id": "WyF9T-DICaTB",
        "outputId": "bf51a462-50f7-46cb-98ec-7ef66c2b4b82"
      },
      "outputs": [
        {
          "data": {
            "text/plain": [
              "[<matplotlib.lines.Line2D at 0x7f6c79dd56d0>]"
            ]
          },
          "execution_count": 7,
          "metadata": {},
          "output_type": "execute_result"
        },
        {
          "data": {
            "image/png": "[encoded data removed]",
            "text/plain": [
              "<Figure size 432x288 with 1 Axes>"
            ]
          },
          "metadata": {},
          "output_type": "display_data"
        }
      ],
      "source": [
        "#Plotting the first 10 days of the temperature timeseries\n",
        "plt.plot(range(1440), temperature[:1440])\n"
      ]
    },
    {
      "cell_type": "code",
      "execution_count": null,
      "metadata": {
        "colab": {
          "base_uri": "https://localhost:8080/"
        },
        "id": "58gotGXcDelA",
        "outputId": "22393020-78b7-4516-923e-32a643dc615c"
      },
      "outputs": [
        {
          "name": "stdout",
          "output_type": "stream",
          "text": [
            "num_train_samples: 210225\n",
            "num_val_samples:  105112\n",
            "num_test_samples: 105114\n"
          ]
        }
      ],
      "source": [
        "#Computing the number of samples we'll use for each data split\n",
        "num_train_samples = int(0.5 * len(raw_data))\n",
        "num_val_samples=int(0.25 * len(raw_data))\n",
        "num_test_samples=len(raw_data)-num_train_samples-num_val_samples\n",
        "print(\"num_train_samples:\",num_train_samples)\n",
        "print(\"num_val_samples: \",num_val_samples)\n",
        "print(\"num_test_samples:\",num_test_samples)"
      ]
    },
    {
      "cell_type": "code",
      "execution_count": null,
      "metadata": {
        "id": "dIgD0-7EEXKe"
      },
      "outputs": [],
      "source": [
        "#Preparing the data\n",
        "#Normalizing the data\n",
        "\n",
        "mean=raw_data[:num_train_samples].mean(axis=0)\n",
        "raw_data-= mean\n",
        "std= raw_data[:num_train_samples].std(axis=0)\n",
        "raw_data /= std\n"
      ]
    },
    {
      "cell_type": "code",
      "execution_count": null,
      "metadata": {
        "id": "aEjLR2A_FOT-"
      },
      "outputs": [],
      "source": [
        "import numpy as np\n",
        "from tensorflow import keras\n",
        "int_sequence=np.arange(10)\n",
        "dummy_dataset = keras.utils.timeseries_dataset_from_array(\n",
        "    data=int_sequence[:-3],\n",
        "    targets=int_sequence[3:1],\n",
        "    sequence_length=3,\n",
        "    batch_size=2,\n",
        ")\n",
        "\n",
        "for inputs, targets in dummy_dataset:\n",
        "    for i in range(inputs.shape[0]):\n",
        "        print([int(x) for x in inputs[i]], int(targets[i]))\n"
      ]
    },
    {
      "cell_type": "code",
      "execution_count": null,
      "metadata": {
        "id": "gGJe97uCGUwo"
      },
      "outputs": [],
      "source": [
        "#Instantiating datasets for training,validation,and testing\n",
        "sampling_rate = 6\n",
        "sequence_length = 120\n",
        "delay= sampling_rate * (sequence_length + 24 - 1)\n",
        "batch_size = 256\n",
        "\n",
        "train_dataset= keras.utils.timeseries_dataset_from_array(\n",
        "    raw_data[:-delay],\n",
        "    targets=temperature[delay:],\n",
        "    sampling_rate=sampling_rate,\n",
        "    sequence_length=sequence_length,\n",
        "    shuffle=True,\n",
        "    batch_size=batch_size,\n",
        "    start_index=0,\n",
        "    end_index=num_train_samples)\n",
        "\n",
        "val_dataset = keras.utils.timeseries_dataset_from_array(\n",
        "    raw_data[:-delay],\n",
        "    targets=temperature[delay:],\n",
        "    sampling_rate=sampling_rate,\n",
        "    sequence_length=sequence_length,\n",
        "    shuffle=True,\n",
        "    batch_size=batch_size,\n",
        "    start_index=num_train_samples,\n",
        "    end_index=num_train_samples + num_val_samples)\n",
        "\n",
        "test_dataset = keras.utils.timeseries_dataset_from_array(\n",
        "    raw_data[:-delay],\n",
        "    targets=temperature[delay:],\n",
        "    sampling_rate=sampling_rate,\n",
        "    sequence_length=sequence_length,\n",
        "    shuffle=True,\n",
        "    batch_size=batch_size,\n",
        "    start_index=num_train_samples + num_val_samples)"
      ]
    },
    {
      "cell_type": "code",
      "execution_count": null,
      "metadata": {
        "colab": {
          "base_uri": "https://localhost:8080/"
        },
        "id": "iebeozXOIZom",
        "outputId": "5fd96f1d-6704-4bfb-dc67-ac0d7e7401db"
      },
      "outputs": [
        {
          "name": "stdout",
          "output_type": "stream",
          "text": [
            "samples shape: (256, 120, 14)\n",
            "targets shape: (256,)\n"
          ]
        }
      ],
      "source": [
        "#Inspecting the output of one of our datasets\n",
        "\n",
        "for samples, targets in train_dataset:\n",
        "    print(\"samples shape:\", samples.shape)\n",
        "    print(\"targets shape:\", targets.shape)\n",
        "    break"
      ]
    },
    {
      "cell_type": "code",
      "execution_count": null,
      "metadata": {
        "colab": {
          "base_uri": "https://localhost:8080/"
        },
        "id": "fPSu3FB0IdRi",
        "outputId": "ef0f3931-088c-41a9-e359-7704da62ef05"
      },
      "outputs": [
        {
          "name": "stdout",
          "output_type": "stream",
          "text": [
            "Validation MAE: 2.44\n",
            "Test MAE: 2.62\n"
          ]
        }
      ],
      "source": [
        "#A common-sense, non-machine-learning baseline\n",
        "#Computing the common-sense baseline MAE\n",
        "def evaluate_naive_method(dataset):\n",
        "    total_abs_err = 0.\n",
        "    samples_seen = 0\n",
        "    for samples, targets in dataset:\n",
        "        preds = samples[:, -1, 1] * std[1] + mean[1]\n",
        "        total_abs_err += np.sum(np.abs(preds - targets))\n",
        "        samples_seen += samples.shape[0]\n",
        "    return total_abs_err / samples_seen\n",
        "\n",
        "print(f\"Validation MAE: {evaluate_naive_method(val_dataset):.2f}\")\n",
        "print(f\"Test MAE: {evaluate_naive_method(test_dataset):.2f}\")"
      ]
    },
    {
      "cell_type": "code",
      "execution_count": null,
      "metadata": {
        "colab": {
          "base_uri": "https://localhost:8080/"
        },
        "id": "tMJ3IXTwIjyx",
        "outputId": "d5d92306-5006-498f-ae27-cde2d6bd9d70"
      },
      "outputs": [
        {
          "name": "stdout",
          "output_type": "stream",
          "text": [
            "Epoch 1/10\n",
            "819/819 [==============================] - 40s 46ms/step - loss: 12.9394 - mae: 2.7859 - val_loss: 10.5504 - val_mae: 2.5729\n",
            "Epoch 2/10\n",
            "819/819 [==============================] - 39s 47ms/step - loss: 9.2331 - mae: 2.3912 - val_loss: 10.1761 - val_mae: 2.5023\n",
            "Epoch 3/10\n",
            "819/819 [==============================] - 39s 47ms/step - loss: 8.4383 - mae: 2.2854 - val_loss: 10.4735 - val_mae: 2.5521\n",
            "Epoch 4/10\n",
            "819/819 [==============================] - 38s 46ms/step - loss: 7.9615 - mae: 2.2207 - val_loss: 9.9375 - val_mae: 2.4954\n",
            "Epoch 5/10\n",
            "819/819 [==============================] - 38s 47ms/step - loss: 7.6809 - mae: 2.1825 - val_loss: 15.1508 - val_mae: 3.1085\n",
            "Epoch 6/10\n",
            "819/819 [==============================] - 37s 45ms/step - loss: 7.4466 - mae: 2.1492 - val_loss: 10.8571 - val_mae: 2.6050\n",
            "Epoch 7/10\n",
            "819/819 [==============================] - 38s 46ms/step - loss: 7.2631 - mae: 2.1224 - val_loss: 10.6363 - val_mae: 2.5759\n",
            "Epoch 8/10\n",
            "819/819 [==============================] - 47s 58ms/step - loss: 7.0974 - mae: 2.0995 - val_loss: 10.3072 - val_mae: 2.5362\n",
            "Epoch 9/10\n",
            "819/819 [==============================] - 38s 46ms/step - loss: 6.9649 - mae: 2.0798 - val_loss: 10.9644 - val_mae: 2.6123\n",
            "Epoch 10/10\n",
            "819/819 [==============================] - 38s 46ms/step - loss: 6.8192 - mae: 2.0621 - val_loss: 11.1519 - val_mae: 2.6278\n",
            "405/405 [==============================] - 13s 30ms/step - loss: 11.1199 - mae: 2.6305\n",
            "Test MAE: 2.63\n"
          ]
        }
      ],
      "source": [
        "# Let's try a basic machine-learning model\n",
        "# Training and evaluating a densely connected model\n",
        "from tensorflow import keras\n",
        "from tensorflow.keras import layers\n",
        "\n",
        "inputs = keras.Input(shape=(sequence_length, raw_data.shape[-1]))\n",
        "x = layers.Flatten()(inputs)\n",
        "x = layers.Dense(16, activation=\"relu\")(x)\n",
        "outputs = layers.Dense(1)(x)\n",
        "model = keras.Model(inputs, outputs)\n",
        "\n",
        "callbacks = [\n",
        "    keras.callbacks.ModelCheckpoint(\"jena_dense.keras\",\n",
        "                                    save_best_only=True)\n",
        "]\n",
        "model.compile(optimizer=\"rmsprop\", loss=\"mse\", metrics=[\"mae\"])\n",
        "history = model.fit(train_dataset,\n",
        "                    epochs=10,\n",
        "                    validation_data=val_dataset,\n",
        "                    callbacks=callbacks)\n",
        "\n",
        "model = keras.models.load_model(\"jena_dense.keras\")\n",
        "print(f\"Test MAE: {model.evaluate(test_dataset)[1]:.2f}\")"
      ]
    },
    {
      "cell_type": "code",
      "execution_count": null,
      "metadata": {
        "colab": {
          "base_uri": "https://localhost:8080/",
          "height": 281
        },
        "id": "EHcFi6SeIpcg",
        "outputId": "e5df829c-76b7-480c-8881-9aca48e12b97"
      },
      "outputs": [
        {
          "data": {
            "image/png": "[encoded data removed]",
            "text/plain": [
              "<Figure size 432x288 with 1 Axes>"
            ]
          },
          "metadata": {},
          "output_type": "display_data"
        }
      ],
      "source": [
        "#Plotting results\n",
        "import matplotlib.pyplot as plt\n",
        "loss = history.history[\"mae\"]\n",
        "val_loss = history.history[\"val_mae\"]\n",
        "epochs = range(1, len(loss) + 1)\n",
        "plt.figure()\n",
        "plt.plot(epochs, loss, \"bo\", label=\"Training MAE\")\n",
        "plt.plot(epochs, val_loss, \"b\", label=\"Validation MAE\")\n",
        "plt.title(\"Training and validation MAE\")\n",
        "plt.legend()\n",
        "plt.show()"
      ]
    },
    {
      "cell_type": "code",
      "execution_count": null,
      "metadata": {
        "colab": {
          "base_uri": "https://localhost:8080/"
        },
        "id": "2dds9WT3Iwgx",
        "outputId": "87d0aca4-346a-4f42-cbc3-6d47b701e006"
      },
      "outputs": [
        {
          "name": "stdout",
          "output_type": "stream",
          "text": [
            "Epoch 1/10\n",
            "819/819 [==============================] - 45s 48ms/step - loss: 22.1510 - mae: 3.7020 - val_loss: 15.7431 - val_mae: 3.1210\n",
            "Epoch 2/10\n",
            "819/819 [==============================] - 39s 48ms/step - loss: 15.3903 - mae: 3.1064 - val_loss: 16.2904 - val_mae: 3.1784\n",
            "Epoch 3/10\n",
            "819/819 [==============================] - 40s 49ms/step - loss: 14.0777 - mae: 2.9651 - val_loss: 15.4193 - val_mae: 3.1098\n",
            "Epoch 4/10\n",
            "819/819 [==============================] - 39s 48ms/step - loss: 13.3078 - mae: 2.8783 - val_loss: 14.8288 - val_mae: 3.0420\n",
            "Epoch 5/10\n",
            "819/819 [==============================] - 40s 48ms/step - loss: 12.7211 - mae: 2.8143 - val_loss: 15.3998 - val_mae: 3.0740\n",
            "Epoch 6/10\n",
            "819/819 [==============================] - 40s 49ms/step - loss: 12.2016 - mae: 2.7564 - val_loss: 16.3276 - val_mae: 3.1895\n",
            "Epoch 7/10\n",
            "819/819 [==============================] - 39s 48ms/step - loss: 11.7555 - mae: 2.7051 - val_loss: 16.8807 - val_mae: 3.2298\n",
            "Epoch 8/10\n",
            "819/819 [==============================] - 40s 49ms/step - loss: 11.3217 - mae: 2.6550 - val_loss: 17.3709 - val_mae: 3.2541\n",
            "Epoch 9/10\n",
            "819/819 [==============================] - 39s 48ms/step - loss: 10.9125 - mae: 2.6059 - val_loss: 15.9720 - val_mae: 3.1141\n",
            "Epoch 10/10\n",
            "819/819 [==============================] - 39s 48ms/step - loss: 10.5899 - mae: 2.5657 - val_loss: 18.4245 - val_mae: 3.3756\n",
            "405/405 [==============================] - 13s 31ms/step - loss: 16.4330 - mae: 3.2014\n",
            "Test MAE: 3.20\n"
          ]
        }
      ],
      "source": [
        "#Let's try a 1D convolutional model\n",
        "inputs = keras.Input(shape=(sequence_length, raw_data.shape[-1]))\n",
        "x = layers.Conv1D(8, 24, activation=\"relu\")(inputs)\n",
        "x = layers.MaxPooling1D(2)(x)\n",
        "x = layers.Conv1D(8, 12, activation=\"relu\")(x)\n",
        "x = layers.MaxPooling1D(2)(x)\n",
        "x = layers.Conv1D(8, 6, activation=\"relu\")(x)\n",
        "x = layers.GlobalAveragePooling1D()(x)\n",
        "outputs = layers.Dense(1)(x)\n",
        "model = keras.Model(inputs, outputs)\n",
        "\n",
        "callbacks = [\n",
        "    keras.callbacks.ModelCheckpoint(\"jena_conv.keras\",\n",
        "                                    save_best_only=True)\n",
        "]\n",
        "model.compile(optimizer=\"rmsprop\", loss=\"mse\", metrics=[\"mae\"])\n",
        "history = model.fit(train_dataset,\n",
        "                    epochs=10,\n",
        "                    validation_data=val_dataset,\n",
        "                    callbacks=callbacks)\n",
        "\n",
        "model = keras.models.load_model(\"jena_conv.keras\")\n",
        "print(f\"Test MAE: {model.evaluate(test_dataset)[1]:.2f}\")"
      ]
    },
    {
      "cell_type": "code",
      "execution_count": null,
      "metadata": {
        "colab": {
          "base_uri": "https://localhost:8080/"
        },
        "id": "Jj03T3ehI1MY",
        "outputId": "e5fbae7f-4b44-4c9e-9cf9-ef67bd0dc1e3"
      },
      "outputs": [
        {
          "name": "stdout",
          "output_type": "stream",
          "text": [
            "Epoch 1/10\n",
            "819/819 [==============================] - 45s 52ms/step - loss: 37.7141 - mae: 4.4524 - val_loss: 12.5443 - val_mae: 2.6805\n",
            "Epoch 2/10\n",
            "819/819 [==============================] - 43s 52ms/step - loss: 10.8362 - mae: 2.5622 - val_loss: 10.0134 - val_mae: 2.4348\n",
            "Epoch 3/10\n",
            "819/819 [==============================] - 42s 51ms/step - loss: 9.9131 - mae: 2.4580 - val_loss: 9.4558 - val_mae: 2.3912\n",
            "Epoch 4/10\n",
            "819/819 [==============================] - 43s 52ms/step - loss: 9.5601 - mae: 2.4134 - val_loss: 9.5443 - val_mae: 2.3972\n",
            "Epoch 5/10\n",
            "819/819 [==============================] - 42s 51ms/step - loss: 9.3295 - mae: 2.3822 - val_loss: 9.5500 - val_mae: 2.3942\n",
            "Epoch 6/10\n",
            "819/819 [==============================] - 42s 51ms/step - loss: 9.0638 - mae: 2.3490 - val_loss: 9.5925 - val_mae: 2.4119\n",
            "Epoch 7/10\n",
            "819/819 [==============================] - 42s 51ms/step - loss: 8.9009 - mae: 2.3293 - val_loss: 9.5256 - val_mae: 2.3911\n",
            "Epoch 8/10\n",
            "819/819 [==============================] - 43s 52ms/step - loss: 8.7332 - mae: 2.3079 - val_loss: 9.6198 - val_mae: 2.4010\n",
            "Epoch 9/10\n",
            "819/819 [==============================] - 42s 51ms/step - loss: 8.6030 - mae: 2.2924 - val_loss: 9.6839 - val_mae: 2.4084\n",
            "Epoch 10/10\n",
            "819/819 [==============================] - 42s 51ms/step - loss: 8.4528 - mae: 2.2730 - val_loss: 9.6582 - val_mae: 2.4043\n",
            "405/405 [==============================] - 14s 32ms/step - loss: 10.4460 - mae: 2.5361\n",
            "Test MAE: 2.54\n"
          ]
        }
      ],
      "source": [
        "# A first recurrent baseline\n",
        "# A simple LSTM-based model\n",
        "inputs = keras.Input(shape=(sequence_length, raw_data.shape[-1]))\n",
        "x = layers.LSTM(16)(inputs)\n",
        "outputs = layers.Dense(1)(x)\n",
        "model = keras.Model(inputs, outputs)\n",
        "\n",
        "callbacks = [\n",
        "    keras.callbacks.ModelCheckpoint(\"jena_lstm.keras\",\n",
        "                                    save_best_only=True)\n",
        "]\n",
        "model.compile(optimizer=\"rmsprop\", loss=\"mse\", metrics=[\"mae\"])\n",
        "history = model.fit(train_dataset,\n",
        "                    epochs=10,\n",
        "                    validation_data=val_dataset,\n",
        "                    callbacks=callbacks)\n",
        "\n",
        "model = keras.models.load_model(\"jena_lstm.keras\")\n",
        "print(f\"Test MAE: {model.evaluate(test_dataset)[1]:.2f}\")"
      ]
    },
    {
      "cell_type": "code",
      "execution_count": null,
      "metadata": {
        "id": "l9csSUAYI6eH"
      },
      "outputs": [],
      "source": [
        "# Understanding recurrent neural networks\n",
        "# NumPy implementation of a simple RNN\n",
        "import numpy as np\n",
        "timesteps = 100\n",
        "input_features = 32\n",
        "output_features = 64\n",
        "inputs = np.random.random((timesteps, input_features))\n",
        "state_t = np.zeros((output_features,))\n",
        "W = np.random.random((output_features, input_features))\n",
        "U = np.random.random((output_features, output_features))\n",
        "b = np.random.random((output_features,))\n",
        "successive_outputs = []\n",
        "for input_t in inputs:\n",
        "    output_t = np.tanh(np.dot(W, input_t) + np.dot(U, state_t) + b)\n",
        "    successive_outputs.append(output_t)\n",
        "    state_t = output_t\n",
        "final_output_sequence = np.stack(successive_outputs, axis=0)"
      ]
    },
    {
      "cell_type": "code",
      "execution_count": null,
      "metadata": {
        "id": "jWwV86qOI_ax"
      },
      "outputs": [],
      "source": [
        "# A recurrent layer in Keras\n",
        "# An RNN layer that can process sequences of any length\n",
        "num_features = 14\n",
        "inputs = keras.Input(shape=(None, num_features))\n",
        "outputs = layers.SimpleRNN(16)(inputs)"
      ]
    },
    {
      "cell_type": "code",
      "execution_count": null,
      "metadata": {
        "colab": {
          "base_uri": "https://localhost:8080/"
        },
        "id": "mdpXoUCNJEMH",
        "outputId": "d28e8cfb-cddd-4347-8097-3eec25a3f903"
      },
      "outputs": [
        {
          "name": "stdout",
          "output_type": "stream",
          "text": [
            "(None, 16)\n"
          ]
        }
      ],
      "source": [
        "# An RNN layer that returns only its last output step\n",
        "num_features = 14\n",
        "steps = 120\n",
        "inputs = keras.Input(shape=(steps, num_features))\n",
        "outputs = layers.SimpleRNN(16, return_sequences=False)(inputs)\n",
        "print(outputs.shape)"
      ]
    },
    {
      "cell_type": "code",
      "execution_count": null,
      "metadata": {
        "colab": {
          "base_uri": "https://localhost:8080/"
        },
        "id": "2lIuJpflJIfw",
        "outputId": "c83c2a98-d88c-4f9c-83f2-1403a8d965ac"
      },
      "outputs": [
        {
          "name": "stdout",
          "output_type": "stream",
          "text": [
            "(None, 120, 16)\n"
          ]
        }
      ],
      "source": [
        "# An RNN layer that returns its full output sequence\n",
        "num_features = 14\n",
        "steps = 120\n",
        "inputs = keras.Input(shape=(steps, num_features))\n",
        "outputs = layers.SimpleRNN(16, return_sequences=True)(inputs)\n",
        "print(outputs.shape)"
      ]
    },
    {
      "cell_type": "code",
      "execution_count": null,
      "metadata": {
        "id": "w3LfF3zxJMea"
      },
      "outputs": [],
      "source": [
        "# Stacking RNN layers\n",
        "inputs = keras.Input(shape=(steps, num_features))\n",
        "x = layers.SimpleRNN(16, return_sequences=True)(inputs)\n",
        "x = layers.SimpleRNN(16, return_sequences=True)(x)\n",
        "outputs = layers.SimpleRNN(16)(x)"
      ]
    },
    {
      "cell_type": "code",
      "execution_count": null,
      "metadata": {
        "colab": {
          "background_save": true,
          "base_uri": "https://localhost:8080/"
        },
        "id": "XfA5qXSjJXu8",
        "outputId": "a2daf729-3e4d-42b9-8089-214c5344b840"
      },
      "outputs": [
        {
          "name": "stderr",
          "output_type": "stream",
          "text": [
            "WARNING:tensorflow:Layer lstm_1 will not use cuDNN kernels since it doesn't meet the criteria. It will use a generic GPU kernel as fallback when running on GPU.\n"
          ]
        },
        {
          "name": "stdout",
          "output_type": "stream",
          "text": [
            "Epoch 1/50\n",
            "819/819 [==============================] - 339s 411ms/step - loss: 26.3163 - mae: 3.7986 - val_loss: 9.9748 - val_mae: 2.4449\n",
            "Epoch 2/50\n",
            "819/819 [==============================] - 339s 414ms/step - loss: 14.7722 - mae: 2.9818 - val_loss: 9.7241 - val_mae: 2.4186\n",
            "Epoch 3/50\n",
            "819/819 [==============================] - 340s 415ms/step - loss: 14.0165 - mae: 2.8982 - val_loss: 9.5472 - val_mae: 2.3967\n",
            "Epoch 4/50\n",
            "819/819 [==============================] - 339s 414ms/step - loss: 13.5298 - mae: 2.8474 - val_loss: 9.5327 - val_mae: 2.4045\n",
            "Epoch 5/50\n",
            "819/819 [==============================] - 339s 414ms/step - loss: 12.9345 - mae: 2.7870 - val_loss: 10.0187 - val_mae: 2.4458\n",
            "Epoch 6/50\n",
            "819/819 [==============================] - 339s 414ms/step - loss: 12.5770 - mae: 2.7453 - val_loss: 10.3185 - val_mae: 2.4881\n",
            "Epoch 7/50\n",
            "819/819 [==============================] - 341s 416ms/step - loss: 12.2230 - mae: 2.7092 - val_loss: 9.9210 - val_mae: 2.4446\n",
            "Epoch 8/50\n",
            "819/819 [==============================] - 341s 416ms/step - loss: 11.9869 - mae: 2.6806 - val_loss: 9.8434 - val_mae: 2.4367\n",
            "Epoch 9/50\n",
            "819/819 [==============================] - 337s 411ms/step - loss: 11.6597 - mae: 2.6422 - val_loss: 9.7119 - val_mae: 2.4240\n",
            "Epoch 10/50\n",
            "819/819 [==============================] - 334s 408ms/step - loss: 11.4969 - mae: 2.6272 - val_loss: 10.1351 - val_mae: 2.4779\n",
            "Epoch 11/50\n",
            "819/819 [==============================] - 336s 410ms/step - loss: 11.3697 - mae: 2.6143 - val_loss: 10.1818 - val_mae: 2.4980\n",
            "Epoch 12/50\n",
            "819/819 [==============================] - 336s 409ms/step - loss: 11.1521 - mae: 2.5859 - val_loss: 10.0477 - val_mae: 2.4673\n",
            "Epoch 13/50\n",
            "819/819 [==============================] - 335s 409ms/step - loss: 11.0071 - mae: 2.5719 - val_loss: 9.7396 - val_mae: 2.4258\n",
            "Epoch 14/50\n",
            "819/819 [==============================] - 334s 408ms/step - loss: 10.8395 - mae: 2.5529 - val_loss: 10.0563 - val_mae: 2.4687\n",
            "Epoch 15/50\n",
            "819/819 [==============================] - 342s 418ms/step - loss: 10.6756 - mae: 2.5336 - val_loss: 9.8323 - val_mae: 2.4435\n",
            "Epoch 16/50\n",
            "819/819 [==============================] - 338s 412ms/step - loss: 10.5760 - mae: 2.5199 - val_loss: 9.8756 - val_mae: 2.4453\n",
            "Epoch 17/50\n",
            "819/819 [==============================] - 334s 408ms/step - loss: 10.4964 - mae: 2.5107 - val_loss: 9.9975 - val_mae: 2.4596\n",
            "Epoch 18/50\n",
            "819/819 [==============================] - 329s 402ms/step - loss: 10.3901 - mae: 2.4977 - val_loss: 10.2212 - val_mae: 2.4910\n",
            "Epoch 19/50\n",
            "819/819 [==============================] - 328s 400ms/step - loss: 10.2784 - mae: 2.4837 - val_loss: 10.1240 - val_mae: 2.4850\n",
            "Epoch 20/50\n",
            "819/819 [==============================] - 330s 402ms/step - loss: 10.1625 - mae: 2.4710 - val_loss: 10.2400 - val_mae: 2.4940\n",
            "Epoch 21/50\n",
            "546/819 [===================>..........] - ETA: 1:41 - loss: 10.0798 - mae: 2.4634"
          ]
        }
      ],
      "source": [
        "# Advanced use of recurrent neural networks\n",
        "# Using recurrent dropout to fight overfitting\n",
        "# Training and evaluating a dropout-regularized LSTM\n",
        "inputs = keras.Input(shape=(sequence_length, raw_data.shape[-1]))\n",
        "x = layers.LSTM(32, recurrent_dropout=0.25)(inputs)\n",
        "x = layers.Dropout(0.5)(x)\n",
        "outputs = layers.Dense(1)(x)\n",
        "model = keras.Model(inputs, outputs)\n",
        "\n",
        "callbacks = [\n",
        "    keras.callbacks.ModelCheckpoint(\"jena_lstm_dropout.keras\",\n",
        "                                    save_best_only=True)\n",
        "]\n",
        "model.compile(optimizer=\"rmsprop\", loss=\"mse\", metrics=[\"mae\"])\n",
        "history = model.fit(train_dataset,\n",
        "                    epochs=50,\n",
        "                    validation_data=val_dataset,\n",
        "                    callbacks=callbacks)"
      ]
    },
    {
      "cell_type": "code",
      "execution_count": null,
      "metadata": {
        "id": "yrrxa3MCJcZH"
      },
      "outputs": [],
      "source": [
        "inputs = keras.Input(shape=(sequence_length, num_features))\n",
        "x = layers.LSTM(32, recurrent_dropout=0.2, unroll=True)(inputs)"
      ]
    },
    {
      "cell_type": "code",
      "execution_count": null,
      "metadata": {
        "id": "iQNr8zekJnc2"
      },
      "outputs": [],
      "source": [
        "# Stacking recurrent layers\n",
        "# Training and evaluating a dropout-regularized, stacked GRU model\n",
        "inputs = keras.Input(shape=(sequence_length, raw_data.shape[-1]))\n",
        "x = layers.GRU(32, recurrent_dropout=0.5, return_sequences=True)(inputs)\n",
        "x = layers.GRU(32, recurrent_dropout=0.5)(x)\n",
        "x = layers.Dropout(0.5)(x)\n",
        "outputs = layers.Dense(1)(x)\n",
        "model = keras.Model(inputs, outputs)\n",
        "\n",
        "callbacks = [\n",
        "    keras.callbacks.ModelCheckpoint(\"jena_stacked_gru_dropout.keras\",\n",
        "                                    save_best_only=True)\n",
        "]\n",
        "model.compile(optimizer=\"rmsprop\", loss=\"mse\", metrics=[\"mae\"])\n",
        "history = model.fit(train_dataset,\n",
        "                    epochs=50,\n",
        "                    validation_data=val_dataset,\n",
        "                    callbacks=callbacks)\n",
        "model = keras.models.load_model(\"jena_stacked_gru_dropout.keras\")\n",
        "print(f\"Test MAE: {model.evaluate(test_dataset)[1]:.2f}\")"
      ]
    },
    {
      "cell_type": "code",
      "execution_count": null,
      "metadata": {
        "id": "y7Vmsf6QJoWH"
      },
      "outputs": [],
      "source": [
        "\n",
        "# Using bidirectional RNNs\n",
        "# Training and evaluating a bidirectional LSTM\n",
        "inputs = keras.Input(shape=(sequence_length, raw_data.shape[-1]))\n",
        "x = layers.Bidirectional(layers.LSTM(16))(inputs)\n",
        "outputs = layers.Dense(1)(x)\n",
        "model = keras.Model(inputs, outputs)\n",
        "\n",
        "model.compile(optimizer=\"rmsprop\", loss=\"mse\", metrics=[\"mae\"])\n",
        "history = model.fit(train_dataset,\n",
        "                    epochs=10,\n",
        "                    validation_data=val_dataset)"
      ]
    }
  ],
  "metadata": {
    "accelerator": "GPU",
    "colab": {
      "provenance": [],
      "authorship_tag": "ABX9TyPQH3zJOPwsSxV23tlX/gwQ",
      "include_colab_link": true
    },
    "gpuClass": "standard",
    "kernelspec": {
      "display_name": "Python 3",
      "name": "python3"
    },
    "language_info": {
      "name": "python"
    }
  },
  "nbformat": 4,
  "nbformat_minor": 0
}